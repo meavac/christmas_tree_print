{
  "nbformat": 4,
  "nbformat_minor": 0,
  "metadata": {
    "colab": {
      "name": "Chritsmas Tree.ipynb",
      "provenance": [],
      "collapsed_sections": []
    },
    "kernelspec": {
      "name": "python3",
      "display_name": "Python 3"
    },
    "language_info": {
      "name": "python"
    }
  },
  "cells": [
    {
      "cell_type": "markdown",
      "source": [
        "# ARBOLITO DE NAVIDAD"
      ],
      "metadata": {
        "id": "UldcF6Vn1Wzf"
      }
    },
    {
      "cell_type": "code",
      "source": [
        "'''\n",
        "Análisis de desarrollo\n",
        "\n",
        "x   (x-1) 1 (x-1)\n",
        "\n",
        "1  1  ----!----\n",
        "2  3  ---*!*---\n",
        "3  5  --**!**--\n",
        "4  7  -***!***-\n",
        "5  9  ****!****\n",
        "\n",
        "lista = [dist( t ) for t in range( 0,30 ) ]\n",
        "\n",
        "for d in distancias:\n",
        "  for i in range(0, int(d/20)):\n",
        "    print(\" \",end='')\n",
        "  print(\"x\")\n",
        "\n",
        "'''"
      ],
      "metadata": {
        "id": "FrbBe0EvawWm"
      },
      "execution_count": null,
      "outputs": []
    },
    {
      "cell_type": "code",
      "source": [
        "def arbolito(niv, patron = \"*\"):\n",
        "  niv_str = str(niv)\n",
        "\n",
        "  if niv_str.isnumeric():\n",
        "    niveles = abs(niv)\n",
        "    # Establecer lista vacía\n",
        "    estrellas = []\n",
        "    # Guardar la cadena de patrón en una variable\n",
        "    pat= patron  \n",
        "\n",
        "    # Por cada unidad dentro del rango 1 y el número de niveles. No puede empezar en cero porque debe haber al menos un nivel\n",
        "    for x in range(1,niveles + 1): \n",
        "    # Se determina el número de estrellas por nivel\n",
        "      num = 1 + 2*(x-1) \n",
        "      estrellas.append(num) # Se agrega el número a la lista\n",
        "    #print(estrellas)\n",
        "    \n",
        "    # Por cada unidad desde 0 a niveles - 1 (Se contempla la misma cantidad)\n",
        "    for nivel in range(niveles): \n",
        "      # El número de espacios se determina con la diferencia de niveles menos el nivel en turno\n",
        "      espacios = niveles-nivel \n",
        "      for e in range(1 , espacios + 1): # Dentro del rango de 1 al número de espacios:\n",
        "        print(\" \", end= \"\")             # Imprimir un espacio\n",
        "      # Posteriormente imprimir el patrón de acuerdo a la cantidad correspondiente al nivel\n",
        "      for x in range(estrellas[nivel]): \n",
        "        print(pat, end= \"\")\n",
        "      print(\" \") # Imprimir espacio para propiciar el salto de línea\n",
        "    \n",
        "    for s in range(niveles-1): \n",
        "      # Imprimir un espacio para centrar la ubicación del tronco\n",
        "      print(\" \", end=\"\") \n",
        "    if niveles <= 5:\n",
        "      print(\" ¡\")\n",
        "    else:\n",
        "      print(\"¡¡¡\")\n",
        "  else:\n",
        "    print(\"Introduce un número mayor a cero\")"
      ],
      "metadata": {
        "id": "q762lTLAb4T5"
      },
      "execution_count": null,
      "outputs": []
    },
    {
      "cell_type": "code",
      "source": [
        "arbolito(5) # º + - o x 0 . "
      ],
      "metadata": {
        "colab": {
          "base_uri": "https://localhost:8080/"
        },
        "id": "YmuO1N6wd5Y4",
        "outputId": "6f99cc88-d6bc-43a0-a665-b2c7d6821bf3"
      },
      "execution_count": null,
      "outputs": [
        {
          "output_type": "stream",
          "name": "stdout",
          "text": [
            "     * \n",
            "    *** \n",
            "   ***** \n",
            "  ******* \n",
            " ********* \n",
            "     ¡\n"
          ]
        }
      ]
    }
  ]
}